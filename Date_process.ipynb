{
  "nbformat": 4,
  "nbformat_minor": 0,
  "metadata": {
    "colab": {
      "provenance": []
    },
    "kernelspec": {
      "name": "python3",
      "display_name": "Python 3"
    },
    "language_info": {
      "name": "python"
    }
  },
  "cells": [
    {
      "cell_type": "code",
      "execution_count": 1,
      "metadata": {
        "colab": {
          "base_uri": "https://localhost:8080/"
        },
        "id": "FLWYFgu4-DSB",
        "outputId": "4c64bec3-fa2c-44ea-c890-f30cd1e36382"
      },
      "outputs": [
        {
          "output_type": "stream",
          "name": "stdout",
          "text": [
            "Collecting wget==3.2\n",
            "  Downloading wget-3.2.zip (10 kB)\n",
            "  Preparing metadata (setup.py) ... \u001b[?25l\u001b[?25hdone\n",
            "Building wheels for collected packages: wget\n",
            "  Building wheel for wget (setup.py) ... \u001b[?25l\u001b[?25hdone\n",
            "  Created wheel for wget: filename=wget-3.2-py3-none-any.whl size=9655 sha256=749f33963e8de3e805e7f4e037d2eb7d451211e8d4d64eac982bd7ef900e5f79\n",
            "  Stored in directory: /root/.cache/pip/wheels/01/46/3b/e29ffbe4ebe614ff224bad40fc6a5773a67a163251585a13a9\n",
            "Successfully built wget\n",
            "Installing collected packages: wget\n",
            "Successfully installed wget-3.2\n"
          ]
        }
      ],
      "source": [
        "!pip install wget==3.2"
      ]
    },
    {
      "cell_type": "code",
      "source": [
        "import wget\n",
        "wget.download(url='https://archive.ics.uci.edu/ml/machine-learning-databases/00312/dow_jones_index.zip',\n",
        "              out='./dados.zip')"
      ],
      "metadata": {
        "colab": {
          "base_uri": "https://localhost:8080/",
          "height": 35
        },
        "id": "-p2eKHWk-gzv",
        "outputId": "6dd99e92-de4c-466a-d94b-e5f303f1576b"
      },
      "execution_count": 2,
      "outputs": [
        {
          "output_type": "execute_result",
          "data": {
            "text/plain": [
              "'./dados.zip'"
            ],
            "application/vnd.google.colaboratory.intrinsic+json": {
              "type": "string"
            }
          },
          "metadata": {},
          "execution_count": 2
        }
      ]
    },
    {
      "cell_type": "code",
      "source": [
        "import zipfile\n",
        "with zipfile.ZipFile('./dados.zip', 'r') as fp:\n",
        "  fp.extractall('./dados')"
      ],
      "metadata": {
        "id": "1r2q68aF-vlG"
      },
      "execution_count": 3,
      "outputs": []
    },
    {
      "cell_type": "code",
      "source": [
        "import os\n",
        "os.rename('./dados/dow_jones_index.data', './dados/dow_jones_index.csv')"
      ],
      "metadata": {
        "id": "kDNpxOU3_gL5"
      },
      "execution_count": null,
      "outputs": []
    },
    {
      "cell_type": "markdown",
      "source": [
        "Exercício: **Pandas**"
      ],
      "metadata": {
        "id": "uRywiENkAz2y"
      }
    },
    {
      "cell_type": "code",
      "source": [
        "!pip install pandas==1.5.3"
      ],
      "metadata": {
        "colab": {
          "base_uri": "https://localhost:8080/"
        },
        "id": "XMneacqhA9Al",
        "outputId": "f48ae722-d5dc-450f-98ad-f9502e9e2a59"
      },
      "execution_count": 7,
      "outputs": [
        {
          "output_type": "stream",
          "name": "stdout",
          "text": [
            "Collecting pandas==1.5.3\n",
            "  Downloading pandas-1.5.3.tar.gz (5.2 MB)\n",
            "\u001b[?25l     \u001b[90m━━━━━━━━━━━━━━━━━━━━━━━━━━━━━━━━━━━━━━━━\u001b[0m \u001b[32m0.0/5.2 MB\u001b[0m \u001b[31m?\u001b[0m eta \u001b[36m-:--:--\u001b[0m\r\u001b[2K     \u001b[91m━━━━━━━\u001b[0m\u001b[90m╺\u001b[0m\u001b[90m━━━━━━━━━━━━━━━━━━━━━━━━━━━━━━━━\u001b[0m \u001b[32m0.9/5.2 MB\u001b[0m \u001b[31m27.8 MB/s\u001b[0m eta \u001b[36m0:00:01\u001b[0m\r\u001b[2K     \u001b[91m━━━━━━━━━━━━━━━━━━━━━━━━━━━━━━━━━━━━━━━\u001b[0m\u001b[91m╸\u001b[0m \u001b[32m5.2/5.2 MB\u001b[0m \u001b[31m90.0 MB/s\u001b[0m eta \u001b[36m0:00:01\u001b[0m\r\u001b[2K     \u001b[90m━━━━━━━━━━━━━━━━━━━━━━━━━━━━━━━━━━━━━━━━\u001b[0m \u001b[32m5.2/5.2 MB\u001b[0m \u001b[31m59.2 MB/s\u001b[0m eta \u001b[36m0:00:00\u001b[0m\n",
            "\u001b[?25h  Installing build dependencies ... \u001b[?25l\u001b[?25hdone\n",
            "  Getting requirements to build wheel ... \u001b[?25l\u001b[?25hdone\n",
            "  Preparing metadata (pyproject.toml) ... \u001b[?25l\u001b[?25hdone\n",
            "Requirement already satisfied: numpy>=1.21.0 in /usr/local/lib/python3.12/dist-packages (from pandas==1.5.3) (2.0.2)\n",
            "Requirement already satisfied: python-dateutil>=2.8.1 in /usr/local/lib/python3.12/dist-packages (from pandas==1.5.3) (2.9.0.post0)\n",
            "Requirement already satisfied: pytz>=2020.1 in /usr/local/lib/python3.12/dist-packages (from pandas==1.5.3) (2025.2)\n",
            "Requirement already satisfied: six>=1.5 in /usr/local/lib/python3.12/dist-packages (from python-dateutil>=2.8.1->pandas==1.5.3) (1.17.0)\n",
            "Building wheels for collected packages: pandas\n",
            "  Building wheel for pandas (pyproject.toml) ... \u001b[?25l\u001b[?25hdone\n",
            "  Created wheel for pandas: filename=pandas-1.5.3-cp312-cp312-linux_x86_64.whl size=41460865 sha256=a8a6fe8527d2d481b8faaa6c03d5ee9cfa6898428a8b0967a475a9e5f5ce1534\n",
            "  Stored in directory: /root/.cache/pip/wheels/fb/83/18/8e7307aa1185c5498c5490e4d9c8a1732d9f1056e86c3491c6\n",
            "Successfully built pandas\n",
            "Installing collected packages: pandas\n",
            "  Attempting uninstall: pandas\n",
            "    Found existing installation: pandas 2.2.2\n",
            "    Uninstalling pandas-2.2.2:\n",
            "      Successfully uninstalled pandas-2.2.2\n",
            "\u001b[31mERROR: pip's dependency resolver does not currently take into account all the packages that are installed. This behaviour is the source of the following dependency conflicts.\n",
            "google-colab 1.0.0 requires pandas==2.2.2, but you have pandas 1.5.3 which is incompatible.\n",
            "arviz 0.22.0 requires pandas>=2.1.0, but you have pandas 1.5.3 which is incompatible.\n",
            "cudf-cu12 25.6.0 requires pandas<2.2.4dev0,>=2.0, but you have pandas 1.5.3 which is incompatible.\n",
            "xarray 2025.9.0 requires pandas>=2.2, but you have pandas 1.5.3 which is incompatible.\n",
            "dask-cudf-cu12 25.6.0 requires pandas<2.2.4dev0,>=2.0, but you have pandas 1.5.3 which is incompatible.\n",
            "mizani 0.13.5 requires pandas>=2.2.0, but you have pandas 1.5.3 which is incompatible.\n",
            "plotnine 0.14.5 requires pandas>=2.2.0, but you have pandas 1.5.3 which is incompatible.\n",
            "geopandas 1.1.1 requires pandas>=2.0.0, but you have pandas 1.5.3 which is incompatible.\u001b[0m\u001b[31m\n",
            "\u001b[0mSuccessfully installed pandas-1.5.3\n"
          ]
        }
      ]
    },
    {
      "cell_type": "code",
      "source": [
        "import pandas as pd"
      ],
      "metadata": {
        "id": "kBhQkXtVFa1v"
      },
      "execution_count": 2,
      "outputs": []
    },
    {
      "cell_type": "code",
      "source": [
        "pip install \"numpy<2\""
      ],
      "metadata": {
        "colab": {
          "base_uri": "https://localhost:8080/",
          "height": 0
        },
        "collapsed": true,
        "id": "avpZ7AvJGIlu",
        "outputId": "5522a83b-1c3b-4a58-e317-5da8f5ab8c48"
      },
      "execution_count": 11,
      "outputs": [
        {
          "output_type": "stream",
          "name": "stdout",
          "text": [
            "Collecting numpy<2\n",
            "  Downloading numpy-1.26.4-cp312-cp312-manylinux_2_17_x86_64.manylinux2014_x86_64.whl.metadata (61 kB)\n",
            "\u001b[?25l     \u001b[90m━━━━━━━━━━━━━━━━━━━━━━━━━━━━━━━━━━━━━━━━\u001b[0m \u001b[32m0.0/61.0 kB\u001b[0m \u001b[31m?\u001b[0m eta \u001b[36m-:--:--\u001b[0m\r\u001b[2K     \u001b[91m━━━━━━━━━━━━━━━━━━━━━━━━━━━━━━━━━\u001b[0m\u001b[91m╸\u001b[0m\u001b[90m━━━━━━\u001b[0m \u001b[32m51.2/61.0 kB\u001b[0m \u001b[31m10.8 MB/s\u001b[0m eta \u001b[36m0:00:01\u001b[0m\r\u001b[2K     \u001b[90m━━━━━━━━━━━━━━━━━━━━━━━━━━━━━━━━━━━━━━━━\u001b[0m \u001b[32m61.0/61.0 kB\u001b[0m \u001b[31m1.2 MB/s\u001b[0m eta \u001b[36m0:00:00\u001b[0m\n",
            "\u001b[?25hDownloading numpy-1.26.4-cp312-cp312-manylinux_2_17_x86_64.manylinux2014_x86_64.whl (18.0 MB)\n",
            "\u001b[2K   \u001b[90m━━━━━━━━━━━━━━━━━━━━━━━━━━━━━━━━━━━━━━━━\u001b[0m \u001b[32m18.0/18.0 MB\u001b[0m \u001b[31m43.1 MB/s\u001b[0m eta \u001b[36m0:00:00\u001b[0m\n",
            "\u001b[?25hInstalling collected packages: numpy\n",
            "  Attempting uninstall: numpy\n",
            "    Found existing installation: numpy 2.0.2\n",
            "    Uninstalling numpy-2.0.2:\n",
            "      Successfully uninstalled numpy-2.0.2\n",
            "\u001b[31mERROR: pip's dependency resolver does not currently take into account all the packages that are installed. This behaviour is the source of the following dependency conflicts.\n",
            "google-colab 1.0.0 requires pandas==2.2.2, but you have pandas 1.5.3 which is incompatible.\n",
            "thinc 8.3.6 requires numpy<3.0.0,>=2.0.0, but you have numpy 1.26.4 which is incompatible.\n",
            "arviz 0.22.0 requires pandas>=2.1.0, but you have pandas 1.5.3 which is incompatible.\n",
            "cudf-cu12 25.6.0 requires pandas<2.2.4dev0,>=2.0, but you have pandas 1.5.3 which is incompatible.\n",
            "opencv-python-headless 4.12.0.88 requires numpy<2.3.0,>=2; python_version >= \"3.9\", but you have numpy 1.26.4 which is incompatible.\n",
            "xarray 2025.9.0 requires pandas>=2.2, but you have pandas 1.5.3 which is incompatible.\n",
            "dask-cudf-cu12 25.6.0 requires pandas<2.2.4dev0,>=2.0, but you have pandas 1.5.3 which is incompatible.\n",
            "opencv-python 4.12.0.88 requires numpy<2.3.0,>=2; python_version >= \"3.9\", but you have numpy 1.26.4 which is incompatible.\n",
            "mizani 0.13.5 requires pandas>=2.2.0, but you have pandas 1.5.3 which is incompatible.\n",
            "opencv-contrib-python 4.12.0.88 requires numpy<2.3.0,>=2; python_version >= \"3.9\", but you have numpy 1.26.4 which is incompatible.\n",
            "plotnine 0.14.5 requires pandas>=2.2.0, but you have pandas 1.5.3 which is incompatible.\n",
            "geopandas 1.1.1 requires pandas>=2.0.0, but you have pandas 1.5.3 which is incompatible.\u001b[0m\u001b[31m\n",
            "\u001b[0mSuccessfully installed numpy-1.26.4\n"
          ]
        },
        {
          "output_type": "display_data",
          "data": {
            "application/vnd.colab-display-data+json": {
              "pip_warning": {
                "packages": [
                  "numpy"
                ]
              },
              "id": "58622b85adf345d3b4451adb8a45968b"
            }
          },
          "metadata": {}
        }
      ]
    },
    {
      "cell_type": "code",
      "source": [
        "df = pd.read_csv('./dados/dow_jones_index.csv')"
      ],
      "metadata": {
        "id": "wkM0VpSlFeXW"
      },
      "execution_count": 3,
      "outputs": []
    },
    {
      "cell_type": "code",
      "source": [
        "df.head(n=10)"
      ],
      "metadata": {
        "colab": {
          "base_uri": "https://localhost:8080/",
          "height": 383
        },
        "id": "_gDJo3FgGr_F",
        "outputId": "968946a6-61ed-4e9f-d6e3-3fd3b963c4e4"
      },
      "execution_count": 4,
      "outputs": [
        {
          "output_type": "execute_result",
          "data": {
            "text/plain": [
              "   quarter stock       date    open    high     low   close     volume  \\\n",
              "0        1    AA   1/7/2011  $15.82  $16.72  $15.78  $16.42  239655616   \n",
              "1        1    AA  1/14/2011  $16.71  $16.71  $15.64  $15.97  242963398   \n",
              "2        1    AA  1/21/2011  $16.19  $16.38  $15.60  $15.79  138428495   \n",
              "3        1    AA  1/28/2011  $15.87  $16.63  $15.82  $16.13  151379173   \n",
              "4        1    AA   2/4/2011  $16.18  $17.39  $16.18  $17.14  154387761   \n",
              "5        1    AA  2/11/2011  $17.33  $17.48  $16.97  $17.37  114691279   \n",
              "6        1    AA  2/18/2011  $17.39  $17.68  $17.28  $17.28   80023895   \n",
              "7        1    AA  2/25/2011  $16.98  $17.15  $15.96  $16.68  132981863   \n",
              "8        1    AA   3/4/2011  $16.81  $16.94  $16.13  $16.58  109493077   \n",
              "9        1    AA  3/11/2011  $16.58  $16.75  $15.42  $16.03  114332562   \n",
              "\n",
              "   percent_change_price  percent_change_volume_over_last_wk  \\\n",
              "0              3.792670                                 NaN   \n",
              "1             -4.428490                            1.380223   \n",
              "2             -2.470660                          -43.024959   \n",
              "3              1.638310                            9.355500   \n",
              "4              5.933250                            1.987452   \n",
              "5              0.230814                          -25.712195   \n",
              "6             -0.632547                          -30.226696   \n",
              "7             -1.766780                           66.177694   \n",
              "8             -1.368230                          -17.663150   \n",
              "9             -3.317250                            4.419900   \n",
              "\n",
              "   previous_weeks_volume next_weeks_open next_weeks_close  \\\n",
              "0                    NaN          $16.71           $15.97   \n",
              "1            239655616.0          $16.19           $15.79   \n",
              "2            242963398.0          $15.87           $16.13   \n",
              "3            138428495.0          $16.18           $17.14   \n",
              "4            151379173.0          $17.33           $17.37   \n",
              "5            154387761.0          $17.39           $17.28   \n",
              "6            114691279.0          $16.98           $16.68   \n",
              "7             80023895.0          $16.81           $16.58   \n",
              "8            132981863.0          $16.58           $16.03   \n",
              "9            109493077.0          $15.95           $16.11   \n",
              "\n",
              "   percent_change_next_weeks_price  days_to_next_dividend  \\\n",
              "0                        -4.428490                     26   \n",
              "1                        -2.470660                     19   \n",
              "2                         1.638310                     12   \n",
              "3                         5.933250                      5   \n",
              "4                         0.230814                     97   \n",
              "5                        -0.632547                     90   \n",
              "6                        -1.766780                     83   \n",
              "7                        -1.368230                     76   \n",
              "8                        -3.317250                     69   \n",
              "9                         1.003130                     62   \n",
              "\n",
              "   percent_return_next_dividend  \n",
              "0                      0.182704  \n",
              "1                      0.187852  \n",
              "2                      0.189994  \n",
              "3                      0.185989  \n",
              "4                      0.175029  \n",
              "5                      0.172712  \n",
              "6                      0.173611  \n",
              "7                      0.179856  \n",
              "8                      0.180941  \n",
              "9                      0.187149  "
            ],
            "text/html": [
              "\n",
              "  <div id=\"df-c3b85a5d-2f4b-4ec9-b091-e24ba0e9eed1\" class=\"colab-df-container\">\n",
              "    <div>\n",
              "<style scoped>\n",
              "    .dataframe tbody tr th:only-of-type {\n",
              "        vertical-align: middle;\n",
              "    }\n",
              "\n",
              "    .dataframe tbody tr th {\n",
              "        vertical-align: top;\n",
              "    }\n",
              "\n",
              "    .dataframe thead th {\n",
              "        text-align: right;\n",
              "    }\n",
              "</style>\n",
              "<table border=\"1\" class=\"dataframe\">\n",
              "  <thead>\n",
              "    <tr style=\"text-align: right;\">\n",
              "      <th></th>\n",
              "      <th>quarter</th>\n",
              "      <th>stock</th>\n",
              "      <th>date</th>\n",
              "      <th>open</th>\n",
              "      <th>high</th>\n",
              "      <th>low</th>\n",
              "      <th>close</th>\n",
              "      <th>volume</th>\n",
              "      <th>percent_change_price</th>\n",
              "      <th>percent_change_volume_over_last_wk</th>\n",
              "      <th>previous_weeks_volume</th>\n",
              "      <th>next_weeks_open</th>\n",
              "      <th>next_weeks_close</th>\n",
              "      <th>percent_change_next_weeks_price</th>\n",
              "      <th>days_to_next_dividend</th>\n",
              "      <th>percent_return_next_dividend</th>\n",
              "    </tr>\n",
              "  </thead>\n",
              "  <tbody>\n",
              "    <tr>\n",
              "      <th>0</th>\n",
              "      <td>1</td>\n",
              "      <td>AA</td>\n",
              "      <td>1/7/2011</td>\n",
              "      <td>$15.82</td>\n",
              "      <td>$16.72</td>\n",
              "      <td>$15.78</td>\n",
              "      <td>$16.42</td>\n",
              "      <td>239655616</td>\n",
              "      <td>3.792670</td>\n",
              "      <td>NaN</td>\n",
              "      <td>NaN</td>\n",
              "      <td>$16.71</td>\n",
              "      <td>$15.97</td>\n",
              "      <td>-4.428490</td>\n",
              "      <td>26</td>\n",
              "      <td>0.182704</td>\n",
              "    </tr>\n",
              "    <tr>\n",
              "      <th>1</th>\n",
              "      <td>1</td>\n",
              "      <td>AA</td>\n",
              "      <td>1/14/2011</td>\n",
              "      <td>$16.71</td>\n",
              "      <td>$16.71</td>\n",
              "      <td>$15.64</td>\n",
              "      <td>$15.97</td>\n",
              "      <td>242963398</td>\n",
              "      <td>-4.428490</td>\n",
              "      <td>1.380223</td>\n",
              "      <td>239655616.0</td>\n",
              "      <td>$16.19</td>\n",
              "      <td>$15.79</td>\n",
              "      <td>-2.470660</td>\n",
              "      <td>19</td>\n",
              "      <td>0.187852</td>\n",
              "    </tr>\n",
              "    <tr>\n",
              "      <th>2</th>\n",
              "      <td>1</td>\n",
              "      <td>AA</td>\n",
              "      <td>1/21/2011</td>\n",
              "      <td>$16.19</td>\n",
              "      <td>$16.38</td>\n",
              "      <td>$15.60</td>\n",
              "      <td>$15.79</td>\n",
              "      <td>138428495</td>\n",
              "      <td>-2.470660</td>\n",
              "      <td>-43.024959</td>\n",
              "      <td>242963398.0</td>\n",
              "      <td>$15.87</td>\n",
              "      <td>$16.13</td>\n",
              "      <td>1.638310</td>\n",
              "      <td>12</td>\n",
              "      <td>0.189994</td>\n",
              "    </tr>\n",
              "    <tr>\n",
              "      <th>3</th>\n",
              "      <td>1</td>\n",
              "      <td>AA</td>\n",
              "      <td>1/28/2011</td>\n",
              "      <td>$15.87</td>\n",
              "      <td>$16.63</td>\n",
              "      <td>$15.82</td>\n",
              "      <td>$16.13</td>\n",
              "      <td>151379173</td>\n",
              "      <td>1.638310</td>\n",
              "      <td>9.355500</td>\n",
              "      <td>138428495.0</td>\n",
              "      <td>$16.18</td>\n",
              "      <td>$17.14</td>\n",
              "      <td>5.933250</td>\n",
              "      <td>5</td>\n",
              "      <td>0.185989</td>\n",
              "    </tr>\n",
              "    <tr>\n",
              "      <th>4</th>\n",
              "      <td>1</td>\n",
              "      <td>AA</td>\n",
              "      <td>2/4/2011</td>\n",
              "      <td>$16.18</td>\n",
              "      <td>$17.39</td>\n",
              "      <td>$16.18</td>\n",
              "      <td>$17.14</td>\n",
              "      <td>154387761</td>\n",
              "      <td>5.933250</td>\n",
              "      <td>1.987452</td>\n",
              "      <td>151379173.0</td>\n",
              "      <td>$17.33</td>\n",
              "      <td>$17.37</td>\n",
              "      <td>0.230814</td>\n",
              "      <td>97</td>\n",
              "      <td>0.175029</td>\n",
              "    </tr>\n",
              "    <tr>\n",
              "      <th>5</th>\n",
              "      <td>1</td>\n",
              "      <td>AA</td>\n",
              "      <td>2/11/2011</td>\n",
              "      <td>$17.33</td>\n",
              "      <td>$17.48</td>\n",
              "      <td>$16.97</td>\n",
              "      <td>$17.37</td>\n",
              "      <td>114691279</td>\n",
              "      <td>0.230814</td>\n",
              "      <td>-25.712195</td>\n",
              "      <td>154387761.0</td>\n",
              "      <td>$17.39</td>\n",
              "      <td>$17.28</td>\n",
              "      <td>-0.632547</td>\n",
              "      <td>90</td>\n",
              "      <td>0.172712</td>\n",
              "    </tr>\n",
              "    <tr>\n",
              "      <th>6</th>\n",
              "      <td>1</td>\n",
              "      <td>AA</td>\n",
              "      <td>2/18/2011</td>\n",
              "      <td>$17.39</td>\n",
              "      <td>$17.68</td>\n",
              "      <td>$17.28</td>\n",
              "      <td>$17.28</td>\n",
              "      <td>80023895</td>\n",
              "      <td>-0.632547</td>\n",
              "      <td>-30.226696</td>\n",
              "      <td>114691279.0</td>\n",
              "      <td>$16.98</td>\n",
              "      <td>$16.68</td>\n",
              "      <td>-1.766780</td>\n",
              "      <td>83</td>\n",
              "      <td>0.173611</td>\n",
              "    </tr>\n",
              "    <tr>\n",
              "      <th>7</th>\n",
              "      <td>1</td>\n",
              "      <td>AA</td>\n",
              "      <td>2/25/2011</td>\n",
              "      <td>$16.98</td>\n",
              "      <td>$17.15</td>\n",
              "      <td>$15.96</td>\n",
              "      <td>$16.68</td>\n",
              "      <td>132981863</td>\n",
              "      <td>-1.766780</td>\n",
              "      <td>66.177694</td>\n",
              "      <td>80023895.0</td>\n",
              "      <td>$16.81</td>\n",
              "      <td>$16.58</td>\n",
              "      <td>-1.368230</td>\n",
              "      <td>76</td>\n",
              "      <td>0.179856</td>\n",
              "    </tr>\n",
              "    <tr>\n",
              "      <th>8</th>\n",
              "      <td>1</td>\n",
              "      <td>AA</td>\n",
              "      <td>3/4/2011</td>\n",
              "      <td>$16.81</td>\n",
              "      <td>$16.94</td>\n",
              "      <td>$16.13</td>\n",
              "      <td>$16.58</td>\n",
              "      <td>109493077</td>\n",
              "      <td>-1.368230</td>\n",
              "      <td>-17.663150</td>\n",
              "      <td>132981863.0</td>\n",
              "      <td>$16.58</td>\n",
              "      <td>$16.03</td>\n",
              "      <td>-3.317250</td>\n",
              "      <td>69</td>\n",
              "      <td>0.180941</td>\n",
              "    </tr>\n",
              "    <tr>\n",
              "      <th>9</th>\n",
              "      <td>1</td>\n",
              "      <td>AA</td>\n",
              "      <td>3/11/2011</td>\n",
              "      <td>$16.58</td>\n",
              "      <td>$16.75</td>\n",
              "      <td>$15.42</td>\n",
              "      <td>$16.03</td>\n",
              "      <td>114332562</td>\n",
              "      <td>-3.317250</td>\n",
              "      <td>4.419900</td>\n",
              "      <td>109493077.0</td>\n",
              "      <td>$15.95</td>\n",
              "      <td>$16.11</td>\n",
              "      <td>1.003130</td>\n",
              "      <td>62</td>\n",
              "      <td>0.187149</td>\n",
              "    </tr>\n",
              "  </tbody>\n",
              "</table>\n",
              "</div>\n",
              "    <div class=\"colab-df-buttons\">\n",
              "\n",
              "  <div class=\"colab-df-container\">\n",
              "    <button class=\"colab-df-convert\" onclick=\"convertToInteractive('df-c3b85a5d-2f4b-4ec9-b091-e24ba0e9eed1')\"\n",
              "            title=\"Convert this dataframe to an interactive table.\"\n",
              "            style=\"display:none;\">\n",
              "\n",
              "  <svg xmlns=\"http://www.w3.org/2000/svg\" height=\"24px\" viewBox=\"0 -960 960 960\">\n",
              "    <path d=\"M120-120v-720h720v720H120Zm60-500h600v-160H180v160Zm220 220h160v-160H400v160Zm0 220h160v-160H400v160ZM180-400h160v-160H180v160Zm440 0h160v-160H620v160ZM180-180h160v-160H180v160Zm440 0h160v-160H620v160Z\"/>\n",
              "  </svg>\n",
              "    </button>\n",
              "\n",
              "  <style>\n",
              "    .colab-df-container {\n",
              "      display:flex;\n",
              "      gap: 12px;\n",
              "    }\n",
              "\n",
              "    .colab-df-convert {\n",
              "      background-color: #E8F0FE;\n",
              "      border: none;\n",
              "      border-radius: 50%;\n",
              "      cursor: pointer;\n",
              "      display: none;\n",
              "      fill: #1967D2;\n",
              "      height: 32px;\n",
              "      padding: 0 0 0 0;\n",
              "      width: 32px;\n",
              "    }\n",
              "\n",
              "    .colab-df-convert:hover {\n",
              "      background-color: #E2EBFA;\n",
              "      box-shadow: 0px 1px 2px rgba(60, 64, 67, 0.3), 0px 1px 3px 1px rgba(60, 64, 67, 0.15);\n",
              "      fill: #174EA6;\n",
              "    }\n",
              "\n",
              "    .colab-df-buttons div {\n",
              "      margin-bottom: 4px;\n",
              "    }\n",
              "\n",
              "    [theme=dark] .colab-df-convert {\n",
              "      background-color: #3B4455;\n",
              "      fill: #D2E3FC;\n",
              "    }\n",
              "\n",
              "    [theme=dark] .colab-df-convert:hover {\n",
              "      background-color: #434B5C;\n",
              "      box-shadow: 0px 1px 3px 1px rgba(0, 0, 0, 0.15);\n",
              "      filter: drop-shadow(0px 1px 2px rgba(0, 0, 0, 0.3));\n",
              "      fill: #FFFFFF;\n",
              "    }\n",
              "  </style>\n",
              "\n",
              "    <script>\n",
              "      const buttonEl =\n",
              "        document.querySelector('#df-c3b85a5d-2f4b-4ec9-b091-e24ba0e9eed1 button.colab-df-convert');\n",
              "      buttonEl.style.display =\n",
              "        google.colab.kernel.accessAllowed ? 'block' : 'none';\n",
              "\n",
              "      async function convertToInteractive(key) {\n",
              "        const element = document.querySelector('#df-c3b85a5d-2f4b-4ec9-b091-e24ba0e9eed1');\n",
              "        const dataTable =\n",
              "          await google.colab.kernel.invokeFunction('convertToInteractive',\n",
              "                                                    [key], {});\n",
              "        if (!dataTable) return;\n",
              "\n",
              "        const docLinkHtml = 'Like what you see? Visit the ' +\n",
              "          '<a target=\"_blank\" href=https://colab.research.google.com/notebooks/data_table.ipynb>data table notebook</a>'\n",
              "          + ' to learn more about interactive tables.';\n",
              "        element.innerHTML = '';\n",
              "        dataTable['output_type'] = 'display_data';\n",
              "        await google.colab.output.renderOutput(dataTable, element);\n",
              "        const docLink = document.createElement('div');\n",
              "        docLink.innerHTML = docLinkHtml;\n",
              "        element.appendChild(docLink);\n",
              "      }\n",
              "    </script>\n",
              "  </div>\n",
              "\n",
              "\n",
              "    <div id=\"df-7e9656a8-d195-40d0-9192-c93a96b5e143\">\n",
              "      <button class=\"colab-df-quickchart\" onclick=\"quickchart('df-7e9656a8-d195-40d0-9192-c93a96b5e143')\"\n",
              "                title=\"Suggest charts\"\n",
              "                style=\"display:none;\">\n",
              "\n",
              "<svg xmlns=\"http://www.w3.org/2000/svg\" height=\"24px\"viewBox=\"0 0 24 24\"\n",
              "     width=\"24px\">\n",
              "    <g>\n",
              "        <path d=\"M19 3H5c-1.1 0-2 .9-2 2v14c0 1.1.9 2 2 2h14c1.1 0 2-.9 2-2V5c0-1.1-.9-2-2-2zM9 17H7v-7h2v7zm4 0h-2V7h2v10zm4 0h-2v-4h2v4z\"/>\n",
              "    </g>\n",
              "</svg>\n",
              "      </button>\n",
              "\n",
              "<style>\n",
              "  .colab-df-quickchart {\n",
              "      --bg-color: #E8F0FE;\n",
              "      --fill-color: #1967D2;\n",
              "      --hover-bg-color: #E2EBFA;\n",
              "      --hover-fill-color: #174EA6;\n",
              "      --disabled-fill-color: #AAA;\n",
              "      --disabled-bg-color: #DDD;\n",
              "  }\n",
              "\n",
              "  [theme=dark] .colab-df-quickchart {\n",
              "      --bg-color: #3B4455;\n",
              "      --fill-color: #D2E3FC;\n",
              "      --hover-bg-color: #434B5C;\n",
              "      --hover-fill-color: #FFFFFF;\n",
              "      --disabled-bg-color: #3B4455;\n",
              "      --disabled-fill-color: #666;\n",
              "  }\n",
              "\n",
              "  .colab-df-quickchart {\n",
              "    background-color: var(--bg-color);\n",
              "    border: none;\n",
              "    border-radius: 50%;\n",
              "    cursor: pointer;\n",
              "    display: none;\n",
              "    fill: var(--fill-color);\n",
              "    height: 32px;\n",
              "    padding: 0;\n",
              "    width: 32px;\n",
              "  }\n",
              "\n",
              "  .colab-df-quickchart:hover {\n",
              "    background-color: var(--hover-bg-color);\n",
              "    box-shadow: 0 1px 2px rgba(60, 64, 67, 0.3), 0 1px 3px 1px rgba(60, 64, 67, 0.15);\n",
              "    fill: var(--button-hover-fill-color);\n",
              "  }\n",
              "\n",
              "  .colab-df-quickchart-complete:disabled,\n",
              "  .colab-df-quickchart-complete:disabled:hover {\n",
              "    background-color: var(--disabled-bg-color);\n",
              "    fill: var(--disabled-fill-color);\n",
              "    box-shadow: none;\n",
              "  }\n",
              "\n",
              "  .colab-df-spinner {\n",
              "    border: 2px solid var(--fill-color);\n",
              "    border-color: transparent;\n",
              "    border-bottom-color: var(--fill-color);\n",
              "    animation:\n",
              "      spin 1s steps(1) infinite;\n",
              "  }\n",
              "\n",
              "  @keyframes spin {\n",
              "    0% {\n",
              "      border-color: transparent;\n",
              "      border-bottom-color: var(--fill-color);\n",
              "      border-left-color: var(--fill-color);\n",
              "    }\n",
              "    20% {\n",
              "      border-color: transparent;\n",
              "      border-left-color: var(--fill-color);\n",
              "      border-top-color: var(--fill-color);\n",
              "    }\n",
              "    30% {\n",
              "      border-color: transparent;\n",
              "      border-left-color: var(--fill-color);\n",
              "      border-top-color: var(--fill-color);\n",
              "      border-right-color: var(--fill-color);\n",
              "    }\n",
              "    40% {\n",
              "      border-color: transparent;\n",
              "      border-right-color: var(--fill-color);\n",
              "      border-top-color: var(--fill-color);\n",
              "    }\n",
              "    60% {\n",
              "      border-color: transparent;\n",
              "      border-right-color: var(--fill-color);\n",
              "    }\n",
              "    80% {\n",
              "      border-color: transparent;\n",
              "      border-right-color: var(--fill-color);\n",
              "      border-bottom-color: var(--fill-color);\n",
              "    }\n",
              "    90% {\n",
              "      border-color: transparent;\n",
              "      border-bottom-color: var(--fill-color);\n",
              "    }\n",
              "  }\n",
              "</style>\n",
              "\n",
              "      <script>\n",
              "        async function quickchart(key) {\n",
              "          const quickchartButtonEl =\n",
              "            document.querySelector('#' + key + ' button');\n",
              "          quickchartButtonEl.disabled = true;  // To prevent multiple clicks.\n",
              "          quickchartButtonEl.classList.add('colab-df-spinner');\n",
              "          try {\n",
              "            const charts = await google.colab.kernel.invokeFunction(\n",
              "                'suggestCharts', [key], {});\n",
              "          } catch (error) {\n",
              "            console.error('Error during call to suggestCharts:', error);\n",
              "          }\n",
              "          quickchartButtonEl.classList.remove('colab-df-spinner');\n",
              "          quickchartButtonEl.classList.add('colab-df-quickchart-complete');\n",
              "        }\n",
              "        (() => {\n",
              "          let quickchartButtonEl =\n",
              "            document.querySelector('#df-7e9656a8-d195-40d0-9192-c93a96b5e143 button');\n",
              "          quickchartButtonEl.style.display =\n",
              "            google.colab.kernel.accessAllowed ? 'block' : 'none';\n",
              "        })();\n",
              "      </script>\n",
              "    </div>\n",
              "\n",
              "    </div>\n",
              "  </div>\n"
            ],
            "application/vnd.google.colaboratory.intrinsic+json": {
              "type": "dataframe",
              "variable_name": "df",
              "summary": "{\n  \"name\": \"df\",\n  \"rows\": 750,\n  \"fields\": [\n    {\n      \"column\": \"quarter\",\n      \"properties\": {\n        \"dtype\": \"number\",\n        \"std\": 0,\n        \"min\": 1,\n        \"max\": 2,\n        \"num_unique_values\": 2,\n        \"samples\": [\n          2,\n          1\n        ],\n        \"semantic_type\": \"\",\n        \"description\": \"\"\n      }\n    },\n    {\n      \"column\": \"stock\",\n      \"properties\": {\n        \"dtype\": \"category\",\n        \"num_unique_values\": 30,\n        \"samples\": [\n          \"VZ\",\n          \"JPM\"\n        ],\n        \"semantic_type\": \"\",\n        \"description\": \"\"\n      }\n    },\n    {\n      \"column\": \"date\",\n      \"properties\": {\n        \"dtype\": \"object\",\n        \"num_unique_values\": 25,\n        \"samples\": [\n          \"3/4/2011\",\n          \"4/29/2011\"\n        ],\n        \"semantic_type\": \"\",\n        \"description\": \"\"\n      }\n    },\n    {\n      \"column\": \"open\",\n      \"properties\": {\n        \"dtype\": \"string\",\n        \"num_unique_values\": 722,\n        \"samples\": [\n          \"$51.75\",\n          \"$20.44\"\n        ],\n        \"semantic_type\": \"\",\n        \"description\": \"\"\n      }\n    },\n    {\n      \"column\": \"high\",\n      \"properties\": {\n        \"dtype\": \"string\",\n        \"num_unique_values\": 713,\n        \"samples\": [\n          \"$35.89\",\n          \"$55.38\"\n        ],\n        \"semantic_type\": \"\",\n        \"description\": \"\"\n      }\n    },\n    {\n      \"column\": \"low\",\n      \"properties\": {\n        \"dtype\": \"string\",\n        \"num_unique_values\": 711,\n        \"samples\": [\n          \"$162.87\",\n          \"$10.40\"\n        ],\n        \"semantic_type\": \"\",\n        \"description\": \"\"\n      }\n    },\n    {\n      \"column\": \"close\",\n      \"properties\": {\n        \"dtype\": \"string\",\n        \"num_unique_values\": 711,\n        \"samples\": [\n          \"$164.44\",\n          \"$10.80\"\n        ],\n        \"semantic_type\": \"\",\n        \"description\": \"\"\n      }\n    },\n    {\n      \"column\": \"volume\",\n      \"properties\": {\n        \"dtype\": \"number\",\n        \"std\": 158438089,\n        \"min\": 9718851,\n        \"max\": 1453438639,\n        \"num_unique_values\": 750,\n        \"samples\": [\n          46244533,\n          92727886\n        ],\n        \"semantic_type\": \"\",\n        \"description\": \"\"\n      }\n    },\n    {\n      \"column\": \"percent_change_price\",\n      \"properties\": {\n        \"dtype\": \"number\",\n        \"std\": 2.5178092070482743,\n        \"min\": -15.4229,\n        \"max\": 9.88223,\n        \"num_unique_values\": 745,\n        \"samples\": [\n          0.385109,\n          -0.85885\n        ],\n        \"semantic_type\": \"\",\n        \"description\": \"\"\n      }\n    },\n    {\n      \"column\": \"percent_change_volume_over_last_wk\",\n      \"properties\": {\n        \"dtype\": \"number\",\n        \"std\": 40.543478186643185,\n        \"min\": -61.43317522,\n        \"max\": 327.4089238,\n        \"num_unique_values\": 720,\n        \"samples\": [\n          23.09498459,\n          6.06869297\n        ],\n        \"semantic_type\": \"\",\n        \"description\": \"\"\n      }\n    },\n    {\n      \"column\": \"previous_weeks_volume\",\n      \"properties\": {\n        \"dtype\": \"number\",\n        \"std\": 159232227.99587065,\n        \"min\": 9718851.0,\n        \"max\": 1453438639.0,\n        \"num_unique_values\": 720,\n        \"samples\": [\n          77152591.0,\n          15689029.0\n        ],\n        \"semantic_type\": \"\",\n        \"description\": \"\"\n      }\n    },\n    {\n      \"column\": \"next_weeks_open\",\n      \"properties\": {\n        \"dtype\": \"string\",\n        \"num_unique_values\": 720,\n        \"samples\": [\n          \"$75.13\",\n          \"$28.77\"\n        ],\n        \"semantic_type\": \"\",\n        \"description\": \"\"\n      }\n    },\n    {\n      \"column\": \"next_weeks_close\",\n      \"properties\": {\n        \"dtype\": \"string\",\n        \"num_unique_values\": 715,\n        \"samples\": [\n          \"$36.70\",\n          \"$64.93\"\n        ],\n        \"semantic_type\": \"\",\n        \"description\": \"\"\n      }\n    },\n    {\n      \"column\": \"percent_change_next_weeks_price\",\n      \"properties\": {\n        \"dtype\": \"number\",\n        \"std\": 2.6795383470141156,\n        \"min\": -15.4229,\n        \"max\": 9.88223,\n        \"num_unique_values\": 745,\n        \"samples\": [\n          1.43609,\n          -2.77257\n        ],\n        \"semantic_type\": \"\",\n        \"description\": \"\"\n      }\n    },\n    {\n      \"column\": \"days_to_next_dividend\",\n      \"properties\": {\n        \"dtype\": \"number\",\n        \"std\": 46,\n        \"min\": 0,\n        \"max\": 336,\n        \"num_unique_values\": 105,\n        \"samples\": [\n          32,\n          45\n        ],\n        \"semantic_type\": \"\",\n        \"description\": \"\"\n      }\n    },\n    {\n      \"column\": \"percent_return_next_dividend\",\n      \"properties\": {\n        \"dtype\": \"number\",\n        \"std\": 0.3054818714776619,\n        \"min\": 0.0655738,\n        \"max\": 1.56421,\n        \"num_unique_values\": 729,\n        \"samples\": [\n          0.69965,\n          0.457736\n        ],\n        \"semantic_type\": \"\",\n        \"description\": \"\"\n      }\n    }\n  ]\n}"
            }
          },
          "metadata": {},
          "execution_count": 4
        }
      ]
    },
    {
      "cell_type": "code",
      "source": [
        "df.columns.to_list()"
      ],
      "metadata": {
        "colab": {
          "base_uri": "https://localhost:8080/"
        },
        "id": "lEZimIPDGv7N",
        "outputId": "55dfd77a-1293-43ad-f102-5b6e9fb854bd"
      },
      "execution_count": 5,
      "outputs": [
        {
          "output_type": "execute_result",
          "data": {
            "text/plain": [
              "['quarter',\n",
              " 'stock',\n",
              " 'date',\n",
              " 'open',\n",
              " 'high',\n",
              " 'low',\n",
              " 'close',\n",
              " 'volume',\n",
              " 'percent_change_price',\n",
              " 'percent_change_volume_over_last_wk',\n",
              " 'previous_weeks_volume',\n",
              " 'next_weeks_open',\n",
              " 'next_weeks_close',\n",
              " 'percent_change_next_weeks_price',\n",
              " 'days_to_next_dividend',\n",
              " 'percent_return_next_dividend']"
            ]
          },
          "metadata": {},
          "execution_count": 5
        }
      ]
    },
    {
      "cell_type": "code",
      "source": [
        "linhas, colunas = df.shape\n",
        "print(f'Número de linhas: {linhas}')\n",
        "print(f'Número de colunas: {colunas}')"
      ],
      "metadata": {
        "colab": {
          "base_uri": "https://localhost:8080/"
        },
        "id": "-mcwvvbMG80C",
        "outputId": "95ea9ac6-4ea6-46f1-af16-e4b134197cc6"
      },
      "execution_count": 6,
      "outputs": [
        {
          "output_type": "stream",
          "name": "stdout",
          "text": [
            "Número de linhas: 750\n",
            "Número de colunas: 16\n"
          ]
        }
      ]
    },
    {
      "cell_type": "code",
      "source": [
        "df_mcd = df[df['stock'] == 'MCD']"
      ],
      "metadata": {
        "id": "gN_SyvjzHGGK"
      },
      "execution_count": 7,
      "outputs": []
    },
    {
      "cell_type": "code",
      "source": [
        "df_mcd = df_mcd[['date', 'open', 'high', 'low', 'close']]"
      ],
      "metadata": {
        "id": "Jl799JU9HKym"
      },
      "execution_count": 8,
      "outputs": []
    },
    {
      "cell_type": "code",
      "source": [
        "df_mcd.head(n=10)\n",
        "df_mcd.dtypes"
      ],
      "metadata": {
        "colab": {
          "base_uri": "https://localhost:8080/",
          "height": 241
        },
        "id": "-MsZ1fPvHP9H",
        "outputId": "836164e1-8759-4c29-a53b-087a8eb625d8"
      },
      "execution_count": 9,
      "outputs": [
        {
          "output_type": "execute_result",
          "data": {
            "text/plain": [
              "date     object\n",
              "open     object\n",
              "high     object\n",
              "low      object\n",
              "close    object\n",
              "dtype: object"
            ],
            "text/html": [
              "<div>\n",
              "<style scoped>\n",
              "    .dataframe tbody tr th:only-of-type {\n",
              "        vertical-align: middle;\n",
              "    }\n",
              "\n",
              "    .dataframe tbody tr th {\n",
              "        vertical-align: top;\n",
              "    }\n",
              "\n",
              "    .dataframe thead th {\n",
              "        text-align: right;\n",
              "    }\n",
              "</style>\n",
              "<table border=\"1\" class=\"dataframe\">\n",
              "  <thead>\n",
              "    <tr style=\"text-align: right;\">\n",
              "      <th></th>\n",
              "      <th>0</th>\n",
              "    </tr>\n",
              "  </thead>\n",
              "  <tbody>\n",
              "    <tr>\n",
              "      <th>date</th>\n",
              "      <td>object</td>\n",
              "    </tr>\n",
              "    <tr>\n",
              "      <th>open</th>\n",
              "      <td>object</td>\n",
              "    </tr>\n",
              "    <tr>\n",
              "      <th>high</th>\n",
              "      <td>object</td>\n",
              "    </tr>\n",
              "    <tr>\n",
              "      <th>low</th>\n",
              "      <td>object</td>\n",
              "    </tr>\n",
              "    <tr>\n",
              "      <th>close</th>\n",
              "      <td>object</td>\n",
              "    </tr>\n",
              "  </tbody>\n",
              "</table>\n",
              "</div><br><label><b>dtype:</b> object</label>"
            ]
          },
          "metadata": {},
          "execution_count": 9
        }
      ]
    },
    {
      "cell_type": "code",
      "source": [
        "for col in ['open', 'high', 'low', 'close']:\n",
        "  df_mcd[col] = df_mcd[col].apply(\n",
        "      lambda value: float(value.split(sep='$')[-1]))"
      ],
      "metadata": {
        "id": "r-LHrH6uHd9u"
      },
      "execution_count": 10,
      "outputs": []
    },
    {
      "cell_type": "code",
      "source": [
        "df_mcd.head(n=10)\n",
        "df_mcd.dtypes"
      ],
      "metadata": {
        "colab": {
          "base_uri": "https://localhost:8080/",
          "height": 241
        },
        "id": "89Fhcw1sHgYR",
        "outputId": "75f38cdd-a06c-4373-eb1f-792a3176c959"
      },
      "execution_count": 11,
      "outputs": [
        {
          "output_type": "execute_result",
          "data": {
            "text/plain": [
              "date      object\n",
              "open     float64\n",
              "high     float64\n",
              "low      float64\n",
              "close    float64\n",
              "dtype: object"
            ],
            "text/html": [
              "<div>\n",
              "<style scoped>\n",
              "    .dataframe tbody tr th:only-of-type {\n",
              "        vertical-align: middle;\n",
              "    }\n",
              "\n",
              "    .dataframe tbody tr th {\n",
              "        vertical-align: top;\n",
              "    }\n",
              "\n",
              "    .dataframe thead th {\n",
              "        text-align: right;\n",
              "    }\n",
              "</style>\n",
              "<table border=\"1\" class=\"dataframe\">\n",
              "  <thead>\n",
              "    <tr style=\"text-align: right;\">\n",
              "      <th></th>\n",
              "      <th>0</th>\n",
              "    </tr>\n",
              "  </thead>\n",
              "  <tbody>\n",
              "    <tr>\n",
              "      <th>date</th>\n",
              "      <td>object</td>\n",
              "    </tr>\n",
              "    <tr>\n",
              "      <th>open</th>\n",
              "      <td>float64</td>\n",
              "    </tr>\n",
              "    <tr>\n",
              "      <th>high</th>\n",
              "      <td>float64</td>\n",
              "    </tr>\n",
              "    <tr>\n",
              "      <th>low</th>\n",
              "      <td>float64</td>\n",
              "    </tr>\n",
              "    <tr>\n",
              "      <th>close</th>\n",
              "      <td>float64</td>\n",
              "    </tr>\n",
              "  </tbody>\n",
              "</table>\n",
              "</div><br><label><b>dtype:</b> object</label>"
            ]
          },
          "metadata": {},
          "execution_count": 11
        }
      ]
    },
    {
      "cell_type": "code",
      "source": [
        "df_mcd = df[df['stock'] == 'KO']"
      ],
      "metadata": {
        "id": "pEsg33f-OCZS"
      },
      "execution_count": 12,
      "outputs": []
    },
    {
      "cell_type": "code",
      "source": [
        "df_mcd = df_mcd[['date', 'open', 'high', 'low', 'close']]"
      ],
      "metadata": {
        "id": "Aw6EWfzUOL-D"
      },
      "execution_count": 13,
      "outputs": []
    },
    {
      "cell_type": "code",
      "source": [
        "df_mcd.head(n=10)\n",
        "df_mcd.dtypes"
      ],
      "metadata": {
        "colab": {
          "base_uri": "https://localhost:8080/",
          "height": 241
        },
        "id": "v2AmL03nOTL6",
        "outputId": "5fe09938-6916-418f-d91c-0012c2ae832f"
      },
      "execution_count": 14,
      "outputs": [
        {
          "output_type": "execute_result",
          "data": {
            "text/plain": [
              "date     object\n",
              "open     object\n",
              "high     object\n",
              "low      object\n",
              "close    object\n",
              "dtype: object"
            ],
            "text/html": [
              "<div>\n",
              "<style scoped>\n",
              "    .dataframe tbody tr th:only-of-type {\n",
              "        vertical-align: middle;\n",
              "    }\n",
              "\n",
              "    .dataframe tbody tr th {\n",
              "        vertical-align: top;\n",
              "    }\n",
              "\n",
              "    .dataframe thead th {\n",
              "        text-align: right;\n",
              "    }\n",
              "</style>\n",
              "<table border=\"1\" class=\"dataframe\">\n",
              "  <thead>\n",
              "    <tr style=\"text-align: right;\">\n",
              "      <th></th>\n",
              "      <th>0</th>\n",
              "    </tr>\n",
              "  </thead>\n",
              "  <tbody>\n",
              "    <tr>\n",
              "      <th>date</th>\n",
              "      <td>object</td>\n",
              "    </tr>\n",
              "    <tr>\n",
              "      <th>open</th>\n",
              "      <td>object</td>\n",
              "    </tr>\n",
              "    <tr>\n",
              "      <th>high</th>\n",
              "      <td>object</td>\n",
              "    </tr>\n",
              "    <tr>\n",
              "      <th>low</th>\n",
              "      <td>object</td>\n",
              "    </tr>\n",
              "    <tr>\n",
              "      <th>close</th>\n",
              "      <td>object</td>\n",
              "    </tr>\n",
              "  </tbody>\n",
              "</table>\n",
              "</div><br><label><b>dtype:</b> object</label>"
            ]
          },
          "metadata": {},
          "execution_count": 14
        }
      ]
    },
    {
      "cell_type": "code",
      "source": [
        "for col in ['open', 'high', 'low', 'close']:\n",
        "  df_mcd[col] = df_mcd[col].apply(lambda value: float(value.split(sep='$')[-1]))"
      ],
      "metadata": {
        "id": "_m53eAbMOZcI"
      },
      "execution_count": 15,
      "outputs": []
    },
    {
      "cell_type": "code",
      "source": [
        "df_mcd.head(n=10)\n",
        "df_mcd.dtypes"
      ],
      "metadata": {
        "colab": {
          "base_uri": "https://localhost:8080/",
          "height": 241
        },
        "id": "U5_YayicOdh2",
        "outputId": "7bdbd3db-fd81-4a7a-ba74-38dca10c854f"
      },
      "execution_count": 16,
      "outputs": [
        {
          "output_type": "execute_result",
          "data": {
            "text/plain": [
              "date      object\n",
              "open     float64\n",
              "high     float64\n",
              "low      float64\n",
              "close    float64\n",
              "dtype: object"
            ],
            "text/html": [
              "<div>\n",
              "<style scoped>\n",
              "    .dataframe tbody tr th:only-of-type {\n",
              "        vertical-align: middle;\n",
              "    }\n",
              "\n",
              "    .dataframe tbody tr th {\n",
              "        vertical-align: top;\n",
              "    }\n",
              "\n",
              "    .dataframe thead th {\n",
              "        text-align: right;\n",
              "    }\n",
              "</style>\n",
              "<table border=\"1\" class=\"dataframe\">\n",
              "  <thead>\n",
              "    <tr style=\"text-align: right;\">\n",
              "      <th></th>\n",
              "      <th>0</th>\n",
              "    </tr>\n",
              "  </thead>\n",
              "  <tbody>\n",
              "    <tr>\n",
              "      <th>date</th>\n",
              "      <td>object</td>\n",
              "    </tr>\n",
              "    <tr>\n",
              "      <th>open</th>\n",
              "      <td>float64</td>\n",
              "    </tr>\n",
              "    <tr>\n",
              "      <th>high</th>\n",
              "      <td>float64</td>\n",
              "    </tr>\n",
              "    <tr>\n",
              "      <th>low</th>\n",
              "      <td>float64</td>\n",
              "    </tr>\n",
              "    <tr>\n",
              "      <th>close</th>\n",
              "      <td>float64</td>\n",
              "    </tr>\n",
              "  </tbody>\n",
              "</table>\n",
              "</div><br><label><b>dtype:</b> object</label>"
            ]
          },
          "metadata": {},
          "execution_count": 16
        }
      ]
    },
    {
      "cell_type": "code",
      "source": [
        "!pip install seaborn==0.13.2"
      ],
      "metadata": {
        "colab": {
          "base_uri": "https://localhost:8080/"
        },
        "id": "rQ72QX7wOnxd",
        "outputId": "b279d525-b20d-4881-e837-e41b6d751822"
      },
      "execution_count": 17,
      "outputs": [
        {
          "output_type": "stream",
          "name": "stdout",
          "text": [
            "Requirement already satisfied: seaborn==0.13.2 in /usr/local/lib/python3.12/dist-packages (0.13.2)\n",
            "Requirement already satisfied: numpy!=1.24.0,>=1.20 in /usr/local/lib/python3.12/dist-packages (from seaborn==0.13.2) (1.26.4)\n",
            "Requirement already satisfied: pandas>=1.2 in /usr/local/lib/python3.12/dist-packages (from seaborn==0.13.2) (1.5.3)\n",
            "Requirement already satisfied: matplotlib!=3.6.1,>=3.4 in /usr/local/lib/python3.12/dist-packages (from seaborn==0.13.2) (3.10.0)\n",
            "Requirement already satisfied: contourpy>=1.0.1 in /usr/local/lib/python3.12/dist-packages (from matplotlib!=3.6.1,>=3.4->seaborn==0.13.2) (1.3.3)\n",
            "Requirement already satisfied: cycler>=0.10 in /usr/local/lib/python3.12/dist-packages (from matplotlib!=3.6.1,>=3.4->seaborn==0.13.2) (0.12.1)\n",
            "Requirement already satisfied: fonttools>=4.22.0 in /usr/local/lib/python3.12/dist-packages (from matplotlib!=3.6.1,>=3.4->seaborn==0.13.2) (4.59.2)\n",
            "Requirement already satisfied: kiwisolver>=1.3.1 in /usr/local/lib/python3.12/dist-packages (from matplotlib!=3.6.1,>=3.4->seaborn==0.13.2) (1.4.9)\n",
            "Requirement already satisfied: packaging>=20.0 in /usr/local/lib/python3.12/dist-packages (from matplotlib!=3.6.1,>=3.4->seaborn==0.13.2) (25.0)\n",
            "Requirement already satisfied: pillow>=8 in /usr/local/lib/python3.12/dist-packages (from matplotlib!=3.6.1,>=3.4->seaborn==0.13.2) (11.3.0)\n",
            "Requirement already satisfied: pyparsing>=2.3.1 in /usr/local/lib/python3.12/dist-packages (from matplotlib!=3.6.1,>=3.4->seaborn==0.13.2) (3.2.3)\n",
            "Requirement already satisfied: python-dateutil>=2.7 in /usr/local/lib/python3.12/dist-packages (from matplotlib!=3.6.1,>=3.4->seaborn==0.13.2) (2.9.0.post0)\n",
            "Requirement already satisfied: pytz>=2020.1 in /usr/local/lib/python3.12/dist-packages (from pandas>=1.2->seaborn==0.13.2) (2025.2)\n",
            "Requirement already satisfied: six>=1.5 in /usr/local/lib/python3.12/dist-packages (from python-dateutil>=2.7->matplotlib!=3.6.1,>=3.4->seaborn==0.13.2) (1.17.0)\n"
          ]
        }
      ]
    },
    {
      "cell_type": "code",
      "source": [
        "import seaborn as sns"
      ],
      "metadata": {
        "id": "N08YO_LrOt2S"
      },
      "execution_count": 18,
      "outputs": []
    },
    {
      "cell_type": "code",
      "source": [
        "plot = sns.lineplot(x=\"date\", y=\"open\", data=df_mcd)\n",
        "plot.tick_params(axis='x', labelrotation = 45)"
      ],
      "metadata": {
        "colab": {
          "base_uri": "https://localhost:8080/",
          "height": 495
        },
        "id": "_ckPZvbaOxQO",
        "outputId": "0cc5b75f-e6d0-4b11-fb0a-fdaeea3674ae"
      },
      "execution_count": 19,
      "outputs": [
        {
          "output_type": "display_data",
          "data": {
            "text/plain": [
              "<Figure size 640x480 with 1 Axes>"
            ],
            "image/png": "[encoded data removed]"
          },
          "metadata": {}
        }
      ]
    },
    {
      "cell_type": "code",
      "source": [
        "plot = sns.lineplot(x=\"date\", y=\"value\", hue='variable', data=pd.melt(df_mcd, ['date']))\n",
        "plot.tick_params(axis='x', labelrotation = 45)"
      ],
      "metadata": {
        "colab": {
          "base_uri": "https://localhost:8080/",
          "height": 495
        },
        "id": "JGBwM0aSO_NC",
        "outputId": "418a30fc-f064-4a94-be9e-aa0bebd202f7"
      },
      "execution_count": 20,
      "outputs": [
        {
          "output_type": "display_data",
          "data": {
            "text/plain": [
              "<Figure size 640x480 with 1 Axes>"
            ],
            "image/png": "[encoded data removed]"
          },
          "metadata": {}
        }
      ]
    },
    {
      "cell_type": "code",
      "source": [
        "plot.figure.savefig(\"./mcd.png\")"
      ],
      "metadata": {
        "id": "AM87dSFpPEpN"
      },
      "execution_count": 21,
      "outputs": []
    }
  ]
}